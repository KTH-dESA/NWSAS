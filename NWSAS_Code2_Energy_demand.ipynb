{
 "cells": [
  {
   "cell_type": "code",
   "execution_count": 1,
   "metadata": {},
   "outputs": [],
   "source": [
    "#import the required Python packages\n",
    "import pandas as pd\n",
    "import numpy as np"
   ]
  },
  {
   "cell_type": "code",
   "execution_count": 2,
   "metadata": {},
   "outputs": [],
   "source": [
    "#Note: You might need to add a column for tds level:\n",
    "\n",
    "scenario = 'phase2_Des_20190609'\n",
    "df=pd.read_csv('phase2_waterdemand_20190607.csv') "
   ]
  },
  {
   "cell_type": "code",
   "execution_count": 3,
   "metadata": {},
   "outputs": [],
   "source": [
    "tds=pd.read_excel('phase2_tds.xlsx')\n",
    "tds.set_index('ref',inplace=True)"
   ]
  },
  {
   "cell_type": "code",
   "execution_count": 4,
   "metadata": {},
   "outputs": [],
   "source": [
    "#Set the default values\n",
    "for i in range (1,13):\n",
    "    df['osmotic_pressure'.format(i)] = 0\n",
    "    df['Edesal_GWh_{}'.format(i)] = 0\n",
    "df['TDS'] = df['Province'].map(tds['TDS'])"
   ]
  },
  {
   "cell_type": "code",
   "execution_count": 5,
   "metadata": {},
   "outputs": [],
   "source": [
    "#Define inputs:\n",
    "\n",
    "osm_coeff = 0.95 #osmotic coefficient =1 \n",
    "molar_mass = 58440 # molar mass of NaCl = 58.44 mg/mol\n",
    "dissociation = 2 #NaCL dissociation is to 2 ions Na and Cl\n",
    "concentration = df['TDS'] \n",
    "gas_const = 0.083145  #universal gas constant (R) = 0.083145\n",
    "wtemp = 25 + 273 #water temperature in Kalven (Tc+273): 25 degree is an assumption\n",
    "threshold = 2000 #Min TDS content for desalination\n",
    "#solute_concentration = dissociation * concentration / molar_mass\n",
    "\n",
    "#osmotic_pressure = osm_coeff * solute_concentration * gas_const * temp\n",
    "\n",
    "#if (df['tds'] > 2000):\n",
    "#    return df['osmotic_pressure'] = osm_coeff * (dissociation *df['tds']/molar_mass) *  gas_const * wtemp\n",
    "#else:\n",
    "#    return df['osmotic_pressure'] = 0\n",
    "\n",
    "df['osmotic_pressure'] = osm_coeff * (dissociation *df.TDS[df['TDS']>threshold]/molar_mass) *  gas_const * wtemp\n",
    "\n",
    "df['osmotic_pressure'] = df['osmotic_pressure'].fillna(0)\n",
    "\n",
    "#df.tds[df['tds']>2000]: This set the criteria that for tds>2000 desalination required"
   ]
  },
  {
   "cell_type": "code",
   "execution_count": 6,
   "metadata": {},
   "outputs": [],
   "source": [
    "efficiency = 0.85 #overall efficiency\n",
    "Pf = 55 #feed pressure in bar\n",
    "Pp = 10 #permeate pressure in bar\n",
    "Rm = 0.9*(10**14) #mebrane resistance\n",
    "A = 37 #area m2\n",
    "N = 15 #number of envelopes\n",
    "Q = 1\n",
    "u = 0.00096 #viscosity of water (Ns/m2)\n",
    "\n",
    "SEC_f = 0.194 #membrane filtration resistance\n",
    "SEC_R = 0.036 #friction losses, retentate\n",
    "SEC_p = 0.0016 #friction losses, permeate\n",
    "SEC_cp = 0.005 #concentration polarization\n",
    "SEC_inef = 0.068 #pump & ERD inefficiency"
   ]
  },
  {
   "cell_type": "code",
   "execution_count": 7,
   "metadata": {},
   "outputs": [],
   "source": [
    "#Energy intensity in Kwh/m3\n",
    "\n",
    "df['Einten_KWh/m3'] = df.loc[df['osmotic_pressure']!=0,'osmotic_pressure']/36 + SEC_f + SEC_R + SEC_p + SEC_cp + SEC_inef\n",
    "df['Einten_KWh/m3'].fillna(0,inplace=True) "
   ]
  },
  {
   "cell_type": "code",
   "execution_count": 8,
   "metadata": {},
   "outputs": [],
   "source": [
    "for i in range(1,13):\n",
    "    Edesal_GWh = 'Edesal_GWh_{}'.format(i)\n",
    "    SSWD = 'SSWD_{}'.format(i)\n",
    "    \n",
    "    df[Edesal_GWh] = (df['Einten_KWh/m3'] * df[SSWD]) /1000000"
   ]
  },
  {
   "cell_type": "code",
   "execution_count": 9,
   "metadata": {},
   "outputs": [
    {
     "data": {
      "text/plain": [
       "NAME_1\n",
       "Adrar            0.000000\n",
       "Beni Walid       0.000000\n",
       "Biskra          26.756722\n",
       "Djelfa           0.000000\n",
       "El Oued        369.598234\n",
       "Gabes           12.741772\n",
       "Ghardaia         0.000000\n",
       "Illizi          10.698618\n",
       "Jufrah           0.000000\n",
       "Kebili         142.282078\n",
       "Khenchela        5.462985\n",
       "Laghouat         0.000000\n",
       "Musrata         88.545182\n",
       "Nalut           27.037841\n",
       "Ouargla        195.793551\n",
       "Tamanrasset      0.000000\n",
       "Tataouine        8.447867\n",
       "Tebessa         22.329139\n",
       "Tozeur          46.032087\n",
       "dtype: float64"
      ]
     },
     "execution_count": 9,
     "metadata": {},
     "output_type": "execute_result"
    }
   ],
   "source": [
    "#Filter data by provenence: \n",
    "df2=df.groupby('NAME_1', as_index=True).sum()\n",
    "sswd = df.filter(like='sswd_').sum(axis=1)\n",
    "Edesal = df.filter(like='Edesal_GWh_').sum(axis=1)\n",
    "\n",
    "# final = df2.filter(['area_m2','sswd_','osmotic_pressure','Edesal_GWh_','country'])\n",
    "df2.filter(like='Edesal_GWh_').sum(axis=1)"
   ]
  },
  {
   "cell_type": "code",
   "execution_count": 10,
   "metadata": {},
   "outputs": [
    {
     "data": {
      "text/plain": [
       "0.200806121649925"
      ]
     },
     "execution_count": 10,
     "metadata": {},
     "output_type": "execute_result"
    }
   ],
   "source": [
    "df['Einten_KWh/m3'].mean()"
   ]
  },
  {
   "cell_type": "code",
   "execution_count": 11,
   "metadata": {},
   "outputs": [],
   "source": [
    "##Create a Pandas Excel writer using XlsxWriter as the engine.\n",
    "#writer = pd.ExcelWriter(scenario + '.xlsx', engine='xlsxwriter')\n",
    "#writer.book.use_zip64()\n",
    "\n",
    "## Convert the dataframe to an XlsxWriter Excel object.\n",
    "#df.to_excel(writer, sheet_name='All')\n",
    "#df2.to_excel(writer, sheet_name='Prov')\n",
    "##sswd.to_excel(writer, sheet_name='SSWD in m3')\n",
    "##Edesal.to_excel(writer, sheet_name='Edesal in KWh')\n",
    "\n",
    "## Close the Pandas Excel writer and output the Excel file.\n",
    "#writer.save()"
   ]
  },
  {
   "cell_type": "code",
   "execution_count": 12,
   "metadata": {},
   "outputs": [],
   "source": [
    "df.to_csv(scenario + '.csv', index=False)"
   ]
  }
 ],
 "metadata": {
  "anaconda-cloud": {},
  "kernelspec": {
   "display_name": "Python 3",
   "language": "python",
   "name": "python3"
  },
  "language_info": {
   "codemirror_mode": {
    "name": "ipython",
    "version": 3
   },
   "file_extension": ".py",
   "mimetype": "text/x-python",
   "name": "python",
   "nbconvert_exporter": "python",
   "pygments_lexer": "ipython3",
   "version": "3.7.3"
  }
 },
 "nbformat": 4,
 "nbformat_minor": 2
}
